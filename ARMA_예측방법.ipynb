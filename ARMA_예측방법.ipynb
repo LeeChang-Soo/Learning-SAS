{
 "cells": [
  {
   "cell_type": "markdown",
   "metadata": {},
   "source": [
    "# 1.시계열 데이터"
   ]
  },
  {
   "cell_type": "markdown",
   "metadata": {},
   "source": [
    "시계열(time series) 데이터는 관측치가 시간적 순서를 가지게 된다. 일정 시점에 조사된 데이터는 횡단(cross-sectional) 자료라 한다. ○○전자 주가, △△기업 월별 매출액, 소매물가지수, 실업률, 환율 등이 시계열 자료이다. {Y ;t 1,2,...,T}\n",
    "\n",
    "(Page 2). "
   ]
  },
  {
   "cell_type": "markdown",
   "metadata": {},
   "source": [
    "## 1.1 분석목적 \n",
    "\n",
    "- 가장 중요한 목적은 미래 값을 예측 : trend analysis, smoothing, decomposition, ARMA model \n",
    "- 시스템 시계열 데이터 이해와 특성 파악 : spectrum analysis, intervention analysis, transfer function analysis\n",
    "\n",
    "## 1.2 방법 \n",
    "- frequency domain : Fourier 분석에 기초, spectrum density function \n",
    "- time domain : 자기상관함수 이용, 관측값들의 시간적 변화 탐색\n",
    "\n",
    "(Page 2). "
   ]
  },
  {
   "cell_type": "markdown",
   "metadata": {},
   "source": [
    "## 1. 3. 시계열 데이터 4 가지 component {Y ;t 1,2,..,T}"
   ]
  },
  {
   "cell_type": "markdown",
   "metadata": {},
   "source": [
    "- 경향(Trend): 데이터가 증가(감소)하는 경향이 있는지 혹은 안정적인지 알 수 있다. 직선의 기울기가 있는가? \n",
    "- 주기(cycle): 일정한 주기(진폭)마다 유사한 변동이 반복된다. (sine, cosine 곡선) - 계절성(seasonality): 주별, 월별, 분기별, 년별 유사 패턴이 반복된다. 불규칙성(irregular): 일정한 패턴을 따르지 않는다. \n",
    "\n",
    "    $Y_t = Trend + Cycle + Seasonality + Irregular$\n",
    "\n",
    "(Page 3)."
   ]
  },
  {
   "cell_type": "markdown",
   "metadata": {},
   "source": [
    "## 1.3.1 시계열 형태 \n",
    "\n",
    "### 1.3.1.1 white noise process \n",
    "- 평균이 0 이고 분산이 $\\sigma^2$ 인 동일분포로부터 독립적으로(iid) 얻어진 시계열 데이터 {$Y_t$} 을 백색 잡음(white noise) process 라 한다. 백색 잡음 데이터의 평균 수준을 $\\mu$ 라 하면 이 시계열 데이터의 모형은 $Y_t = \\mu + e_t$ 라 쓸 수 있다. 만약 $Y_0 = \\mu$ 라 하면 $Y_t = Y_0 + e_1 + e_2 + \\dots + e_t $가 되며 {$Y_t$} 을 random walk process 라 한다. {$Y_t$} 는 동일한 분포를 가지며 서로 독립이라는 가정이다. \n",
    "\n",
    "### 1.3.1.2 stationary process \n",
    "- $F(y_{t_1}, y_{t_2}, \\dots, y_{t_n}) = F(y_{t_{1 + k}}, y_{t_{2 + k}}, \\dots, y_{t_{n + k}})$ 이면 시계열 데이터 {$Y_t$} 를 strongly stationary process(강한 정상성)이라 한다. 일정한 기간의 종속변수 결합밀도함수는 동일한 분포를 가진다는 것을 의미한다. 다음 조건을 만족하는 시계열 데이터 {$Y_t$}는 weakly stationary process(약한 정상성)라 정의한다. \n",
    "  - 평균이 일정하다. $E(Y_t) = \\mu$ \n",
    "  - 분산이 존재하며 일정하다. $V(Y_t) = \\gamma(0) < \\infty$ \n",
    "  - 두 시점 사이의 자기 공분산(auto-correlation)은 시간의 차이에 의존한다.<p> \n",
    "      $COV(Y_t, Y_{t-j}) = COV(Y_s, Y_{s-j}) = \\gamma(j), for \\, j \\neq s$\n",
    "\n",
    "(Page 3). "
   ]
  },
  {
   "cell_type": "markdown",
   "metadata": {},
   "source": [
    "# 2. Time Plot"
   ]
  },
  {
   "cell_type": "markdown",
   "metadata": {},
   "source": [
    "시계열 자료 {$Y_t ; t=1,2, \\dots, T$} 는 자료가 시간적 순서를 가지므로 $Y$ 축은{$Y_t$} 값, $X$ 축은 시간이므로 하여 산점도를 그릴 수 있다. 이를 시간도표(time plot)이라 한다. \n",
    " - 시계열 자료의 구조를 파악하는데 도움이 되며 시계열 분석의 시작이다. \n",
    " - 시계열 데이터 4 가지 성분 진단 가능 : 시각적 도움 \n",
    "   - 백색잡음 : $Y_t = e_t ~ N(0, \\sigma^2)$\n",
    "   - 정상성 시계열 : $F(y_{t_1}, y_{t_2}, \\dots, y_{t_n}) = F(y_{t_{1 + k}}, y_{t_{2 + k}}, \\dots, y_{t_{n + k}})$  \n",
    "     $E(Y_t) = \\mu$, $V(Y_t) = \\gamma(0) < \\infty$, $COV(Y_t, Y_{t-j}) = COV(Y_s, Y_{s-j}) = \\gamma(j), for \\, j \\neq s$\n",
    " - econometrics (계량 경제) : 종속변수의 등분산 가정 체크\n",
    "\n",
    "(Page 4)."
   ]
  },
  {
   "cell_type": "markdown",
   "metadata": {},
   "source": [
    "# III. Moving average 이동평균법"
   ]
  },
  {
   "cell_type": "markdown",
   "metadata": {},
   "source": [
    "자신의 m 개 관측치 평균으로 시계열 자료  {$Y_t$}의 패턴 인식 \n",
    "\n",
    "가중치는 1/m 으로 동일하다. \n",
    "\n",
    "이를 이용하여 미래 값  {$Y_{t+1}$} 예측한다.\n",
    "\n",
    "(Page 6)"
   ]
  },
  {
   "cell_type": "markdown",
   "metadata": {},
   "source": [
    "## 3.1 M의 결정\n",
    "\n",
    "일반적으로 주기를 m 으로 놓는다. \n",
    "\n",
    "주가의 경우 5 일 (단기), 20 일, 60 일(중기), 120 일(장기), … 이동평균을 주로 사용한다\n",
    "\n",
    "(Page 6). "
   ]
  },
  {
   "cell_type": "markdown",
   "metadata": {},
   "source": [
    "## 3.2 이동평균법 특징 \n",
    "\n",
    "m 이 클수록 주기의 영향은 없어지고 직선에 가까워짐, Trend(경향)을 보는데 활용 \n",
    "\n",
    "작은 m 은 단기 예측, 큰 주기 m 은 장기 예측에 사용 \n",
    "\n",
    "주가 예측에 가장 많이 이용, 그러나 예측보다는 (실제 예측 가능은 다음 1 기) 추세분석에 가까움\n",
    "\n",
    "(Page 6)."
   ]
  },
  {
   "cell_type": "markdown",
   "metadata": {},
   "source": [
    "# IV. 지수평활법 개요"
   ]
  },
  {
   "cell_type": "markdown",
   "metadata": {},
   "source": [
    "- 모든 관측치에 동일한 가중치를 부여하는 이동평균법과는 달리 최근 관측치에 높은 가중치, 멀어질수록 지수적으로 가중치 값 감소 \n",
    "- 이동평균법(동일한 가중치로 평활하여 계절성분, 불규칙성 제거하여 추세 명확하게)은 분해법에서 계절조정을 하는데 주로 사용하며, 지수평활법은 예측에 사용\n",
    "\n",
    "(Page 8). "
   ]
  },
  {
   "cell_type": "code",
   "execution_count": null,
   "metadata": {},
   "outputs": [],
   "source": []
  },
  {
   "cell_type": "code",
   "execution_count": null,
   "metadata": {},
   "outputs": [],
   "source": []
  },
  {
   "cell_type": "code",
   "execution_count": null,
   "metadata": {},
   "outputs": [],
   "source": []
  },
  {
   "cell_type": "code",
   "execution_count": null,
   "metadata": {},
   "outputs": [],
   "source": []
  },
  {
   "cell_type": "code",
   "execution_count": null,
   "metadata": {},
   "outputs": [],
   "source": []
  }
 ],
 "metadata": {
  "kernelspec": {
   "display_name": "SAS",
   "language": "sas",
   "name": "sas"
  },
  "language_info": {
   "codemirror_mode": "sas",
   "file_extension": ".sas",
   "mimetype": "text/x-sas",
   "name": "sas"
  }
 },
 "nbformat": 4,
 "nbformat_minor": 2
}
